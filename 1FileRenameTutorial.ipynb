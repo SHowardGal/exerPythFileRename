{
 "cells": [
  {
   "cell_type": "code",
   "execution_count": 9,
   "source": [
    "import os\r\n",
    "os.chdir(r\"C:\\Users\\steph\\Desktop\\planets list\")\r\n",
    "print(os.getcwd())\r\n",
    "for f in os.listdir():\r\n",
    "    print(f)\r\n",
    "    "
   ],
   "outputs": [
    {
     "output_type": "stream",
     "name": "stdout",
     "text": [
      "C:\\Users\\steph\\Desktop\\planets list\n",
      "Earth - Our Solar System - #4.txt\n",
      "Jupiter - Our Solar System - #6.txt\n",
      "Mars - Our Solar System - #5.txt\n",
      "Mercury - Our Solar System - #2.txt\n",
      "Neptune - Our Solar System - #8.txt\n",
      "Pluto - Our Solar System - #10.txt\n",
      "Saturn - Our Solar System - #7.txt\n",
      "The Sun - Our Solar System - #1.txt\n",
      "Uranus - our Solar System - #9.txt\n",
      "Venus - Our Solar System - #3.txt\n"
     ]
    }
   ],
   "metadata": {}
  },
  {
   "cell_type": "code",
   "execution_count": 10,
   "source": [
    "import os\r\n",
    "os.chdir(r\"C:\\Users\\steph\\Desktop\\planets list\")\r\n",
    "print(os.getcwd())\r\n",
    "for f in os.listdir():\r\n",
    "    print(os.path.splitext(f))"
   ],
   "outputs": [
    {
     "output_type": "stream",
     "name": "stdout",
     "text": [
      "C:\\Users\\steph\\Desktop\\planets list\n",
      "('Earth - Our Solar System - #4', '.txt')\n",
      "('Jupiter - Our Solar System - #6', '.txt')\n",
      "('Mars - Our Solar System - #5', '.txt')\n",
      "('Mercury - Our Solar System - #2', '.txt')\n",
      "('Neptune - Our Solar System - #8', '.txt')\n",
      "('Pluto - Our Solar System - #10', '.txt')\n",
      "('Saturn - Our Solar System - #7', '.txt')\n",
      "('The Sun - Our Solar System - #1', '.txt')\n",
      "('Uranus - our Solar System - #9', '.txt')\n",
      "('Venus - Our Solar System - #3', '.txt')\n"
     ]
    }
   ],
   "metadata": {}
  },
  {
   "cell_type": "code",
   "execution_count": 11,
   "source": [
    "import os\r\n",
    "os.chdir(r\"C:\\Users\\steph\\Desktop\\planets list\")\r\n",
    "print(os.getcwd())\r\n",
    "for f in os.listdir():\r\n",
    "    file_name, file_ext = os.path.splitext(f)\r\n",
    "    print(file_name)"
   ],
   "outputs": [
    {
     "output_type": "stream",
     "name": "stdout",
     "text": [
      "C:\\Users\\steph\\Desktop\\planets list\n",
      "Earth - Our Solar System - #4\n",
      "Jupiter - Our Solar System - #6\n",
      "Mars - Our Solar System - #5\n",
      "Mercury - Our Solar System - #2\n",
      "Neptune - Our Solar System - #8\n",
      "Pluto - Our Solar System - #10\n",
      "Saturn - Our Solar System - #7\n",
      "The Sun - Our Solar System - #1\n",
      "Uranus - our Solar System - #9\n",
      "Venus - Our Solar System - #3\n"
     ]
    }
   ],
   "metadata": {}
  },
  {
   "cell_type": "code",
   "execution_count": 12,
   "source": [
    "import os\r\n",
    "os.chdir(r\"C:\\Users\\steph\\Desktop\\planets list\")\r\n",
    "print(os.getcwd())\r\n",
    "for f in os.listdir():\r\n",
    "    file_name, file_ext = os.path.splitext(f)\r\n",
    "    print(file_name.split('-'))\r\n"
   ],
   "outputs": [
    {
     "output_type": "stream",
     "name": "stdout",
     "text": [
      "C:\\Users\\steph\\Desktop\\planets list\n",
      "['Earth ', ' Our Solar System ', ' #4']\n",
      "['Jupiter ', ' Our Solar System ', ' #6']\n",
      "['Mars ', ' Our Solar System ', ' #5']\n",
      "['Mercury ', ' Our Solar System ', ' #2']\n",
      "['Neptune ', ' Our Solar System ', ' #8']\n",
      "['Pluto ', ' Our Solar System ', ' #10']\n",
      "['Saturn ', ' Our Solar System ', ' #7']\n",
      "['The Sun ', ' Our Solar System ', ' #1']\n",
      "['Uranus ', ' our Solar System ', ' #9']\n",
      "['Venus ', ' Our Solar System ', ' #3']\n"
     ]
    }
   ],
   "metadata": {}
  },
  {
   "cell_type": "code",
   "execution_count": 14,
   "source": [
    "import os\r\n",
    "os.chdir(r\"C:\\Users\\steph\\Desktop\\planets list\")\r\n",
    "print(os.getcwd())\r\n",
    "for f in os.listdir():\r\n",
    "    file_name, file_ext = os.path.splitext(f)\r\n",
    "    f_title, f_course, f_num = file_name.split('-')\r\n",
    "    print(f_title)"
   ],
   "outputs": [
    {
     "output_type": "stream",
     "name": "stdout",
     "text": [
      "C:\\Users\\steph\\Desktop\\planets list\n",
      "Earth \n",
      "Jupiter \n",
      "Mars \n",
      "Mercury \n",
      "Neptune \n",
      "Pluto \n",
      "Saturn \n",
      "The Sun \n",
      "Uranus \n",
      "Venus \n"
     ]
    }
   ],
   "metadata": {}
  },
  {
   "cell_type": "code",
   "execution_count": 15,
   "source": [
    "import os\r\n",
    "os.chdir(r\"C:\\Users\\steph\\Desktop\\planets list\")\r\n",
    "print(os.getcwd())\r\n",
    "for f in os.listdir():\r\n",
    "    file_name, file_ext = os.path.splitext(f)\r\n",
    "    f_title, f_course, f_num = file_name.split('-')\r\n",
    "    print(f_course)"
   ],
   "outputs": [
    {
     "output_type": "stream",
     "name": "stdout",
     "text": [
      "C:\\Users\\steph\\Desktop\\planets list\n",
      " Our Solar System \n",
      " Our Solar System \n",
      " Our Solar System \n",
      " Our Solar System \n",
      " Our Solar System \n",
      " Our Solar System \n",
      " Our Solar System \n",
      " Our Solar System \n",
      " our Solar System \n",
      " Our Solar System \n"
     ]
    }
   ],
   "metadata": {}
  },
  {
   "cell_type": "code",
   "execution_count": 16,
   "source": [
    "import os\r\n",
    "os.chdir(r\"C:\\Users\\steph\\Desktop\\planets list\")\r\n",
    "print(os.getcwd())\r\n",
    "for f in os.listdir():\r\n",
    "    file_name, file_ext = os.path.splitext(f)\r\n",
    "    f_title, f_course, f_num = file_name.split('-')\r\n",
    "    print(f_num)"
   ],
   "outputs": [
    {
     "output_type": "stream",
     "name": "stdout",
     "text": [
      "C:\\Users\\steph\\Desktop\\planets list\n",
      " #4\n",
      " #6\n",
      " #5\n",
      " #2\n",
      " #8\n",
      " #10\n",
      " #7\n",
      " #1\n",
      " #9\n",
      " #3\n"
     ]
    }
   ],
   "metadata": {}
  },
  {
   "cell_type": "code",
   "execution_count": 18,
   "source": [
    "import os\r\n",
    "os.chdir(r\"C:\\Users\\steph\\Desktop\\planets list\")\r\n",
    "print(os.getcwd())\r\n",
    "for f in os.listdir():\r\n",
    "    f_name, f_ext = os.path.splitext(f)\r\n",
    "    f_title, f_course, f_num = f_name.split('-')\r\n",
    "    print('{}-{}-{}{}'.format(f_num, f_course, f_title, f_ext))"
   ],
   "outputs": [
    {
     "output_type": "stream",
     "name": "stdout",
     "text": [
      "C:\\Users\\steph\\Desktop\\planets list\n",
      " #4- Our Solar System -Earth .txt\n",
      " #6- Our Solar System -Jupiter .txt\n",
      " #5- Our Solar System -Mars .txt\n",
      " #2- Our Solar System -Mercury .txt\n",
      " #8- Our Solar System -Neptune .txt\n",
      " #10- Our Solar System -Pluto .txt\n",
      " #7- Our Solar System -Saturn .txt\n",
      " #1- Our Solar System -The Sun .txt\n",
      " #9- our Solar System -Uranus .txt\n",
      " #3- Our Solar System -Venus .txt\n"
     ]
    }
   ],
   "metadata": {}
  },
  {
   "cell_type": "code",
   "execution_count": 19,
   "source": [
    "import os\r\n",
    "os.chdir(r\"C:\\Users\\steph\\Desktop\\planets list\")\r\n",
    "print(os.getcwd())\r\n",
    "for f in os.listdir():\r\n",
    "    f_name, f_ext = os.path.splitext(f)\r\n",
    "    f_title, f_course, f_num = f_name.split('-')\r\n",
    "    f_title = f_title.strip()\r\n",
    "    f_course = f_course.strip()\r\n",
    "    f_num = f_num.strip()\r\n",
    "        \r\n",
    "    print('{}-{}-{}{}'.format(f_num, f_course, f_title, f_ext))"
   ],
   "outputs": [
    {
     "output_type": "stream",
     "name": "stdout",
     "text": [
      "C:\\Users\\steph\\Desktop\\planets list\n",
      "#4-Our Solar System-Earth.txt\n",
      "#6-Our Solar System-Jupiter.txt\n",
      "#5-Our Solar System-Mars.txt\n",
      "#2-Our Solar System-Mercury.txt\n",
      "#8-Our Solar System-Neptune.txt\n",
      "#10-Our Solar System-Pluto.txt\n",
      "#7-Our Solar System-Saturn.txt\n",
      "#1-Our Solar System-The Sun.txt\n",
      "#9-our Solar System-Uranus.txt\n",
      "#3-Our Solar System-Venus.txt\n"
     ]
    }
   ],
   "metadata": {}
  },
  {
   "cell_type": "code",
   "execution_count": 20,
   "source": [
    "import os\r\n",
    "os.chdir(r\"C:\\Users\\steph\\Desktop\\planets list\")\r\n",
    "print(os.getcwd())\r\n",
    "for f in os.listdir():\r\n",
    "    f_name, f_ext = os.path.splitext(f)\r\n",
    "    f_title, f_course, f_num = f_name.split('-')\r\n",
    "    f_title = f_title.strip()\r\n",
    "    f_course = f_course.strip()\r\n",
    "    f_num = f_num.strip()[1:]\r\n",
    "        \r\n",
    "    print('{}-{}-{}{}'.format(f_num, f_course, f_title, f_ext))"
   ],
   "outputs": [
    {
     "output_type": "stream",
     "name": "stdout",
     "text": [
      "C:\\Users\\steph\\Desktop\\planets list\n",
      "4-Our Solar System-Earth.txt\n",
      "6-Our Solar System-Jupiter.txt\n",
      "5-Our Solar System-Mars.txt\n",
      "2-Our Solar System-Mercury.txt\n",
      "8-Our Solar System-Neptune.txt\n",
      "10-Our Solar System-Pluto.txt\n",
      "7-Our Solar System-Saturn.txt\n",
      "1-Our Solar System-The Sun.txt\n",
      "9-our Solar System-Uranus.txt\n",
      "3-Our Solar System-Venus.txt\n"
     ]
    }
   ],
   "metadata": {}
  },
  {
   "cell_type": "code",
   "execution_count": 22,
   "source": [
    "import os\r\n",
    "os.chdir(r\"C:\\Users\\steph\\Desktop\\planets list\")\r\n",
    "print(os.getcwd())\r\n",
    "for f in os.listdir():\r\n",
    "    f_name, f_ext = os.path.splitext(f)\r\n",
    "    f_title, f_course, f_num = f_name.split('-')\r\n",
    "    f_title = f_title.strip()\r\n",
    "    f_course = f_course.strip()\r\n",
    "    f_num = f_num.strip()[1:].zfill(2)\r\n",
    "        \r\n",
    "    print('{}-{}-{}{}'.format(f_num, f_course, f_title, f_ext))"
   ],
   "outputs": [
    {
     "output_type": "stream",
     "name": "stdout",
     "text": [
      "C:\\Users\\steph\\Desktop\\planets list\n",
      "04-Our Solar System-Earth.txt\n",
      "06-Our Solar System-Jupiter.txt\n",
      "05-Our Solar System-Mars.txt\n",
      "02-Our Solar System-Mercury.txt\n",
      "08-Our Solar System-Neptune.txt\n",
      "10-Our Solar System-Pluto.txt\n",
      "07-Our Solar System-Saturn.txt\n",
      "01-Our Solar System-The Sun.txt\n",
      "09-our Solar System-Uranus.txt\n",
      "03-Our Solar System-Venus.txt\n"
     ]
    }
   ],
   "metadata": {}
  },
  {
   "cell_type": "code",
   "execution_count": 23,
   "source": [
    "import os\r\n",
    "os.chdir(r\"C:\\Users\\steph\\Desktop\\planets list\")\r\n",
    "print(os.getcwd())\r\n",
    "for f in os.listdir():\r\n",
    "    f_name, f_ext = os.path.splitext(f)\r\n",
    "    f_title, f_course, f_num = f_name.split('-')\r\n",
    "    f_title = f_title.strip()\r\n",
    "    f_course = f_course.strip()\r\n",
    "    f_num = f_num.strip()[1:].zfill(2)\r\n",
    "        \r\n",
    "    print('{}-{}{}'.format(f_num, f_title, f_ext))"
   ],
   "outputs": [
    {
     "output_type": "stream",
     "name": "stdout",
     "text": [
      "C:\\Users\\steph\\Desktop\\planets list\n",
      "04-Earth.txt\n",
      "06-Jupiter.txt\n",
      "05-Mars.txt\n",
      "02-Mercury.txt\n",
      "08-Neptune.txt\n",
      "10-Pluto.txt\n",
      "07-Saturn.txt\n",
      "01-The Sun.txt\n",
      "09-Uranus.txt\n",
      "03-Venus.txt\n"
     ]
    }
   ],
   "metadata": {}
  },
  {
   "cell_type": "code",
   "execution_count": 25,
   "source": [
    "import os\r\n",
    "os.chdir(r\"C:\\Users\\steph\\Desktop\\planets list\")\r\n",
    "print(os.getcwd())\r\n",
    "for f in os.listdir():\r\n",
    "    f_name, f_ext = os.path.splitext(f)\r\n",
    "    f_title, f_course, f_num = f_name.split('-')\r\n",
    "    f_title = f_title.strip()\r\n",
    "    f_course = f_course.strip()\r\n",
    "    f_num = f_num.strip()[1:].zfill(2)\r\n",
    "        \r\n",
    "    new_name = ('{}-{}{}'.format(f_num, f_title, f_ext))\r\n",
    "    os.rename(f, new_name)"
   ],
   "outputs": [
    {
     "output_type": "stream",
     "name": "stdout",
     "text": [
      "C:\\Users\\steph\\Desktop\\planets list\n"
     ]
    }
   ],
   "metadata": {}
  }
 ],
 "metadata": {
  "kernelspec": {
   "display_name": "Python 3",
   "language": "python",
   "name": "python3"
  },
  "language_info": {
   "codemirror_mode": {
    "name": "ipython",
    "version": 3
   },
   "file_extension": ".py",
   "mimetype": "text/x-python",
   "name": "python",
   "nbconvert_exporter": "python",
   "pygments_lexer": "ipython3",
   "version": "3.8.8"
  }
 },
 "nbformat": 4,
 "nbformat_minor": 5
}